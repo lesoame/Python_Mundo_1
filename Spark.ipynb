{
  "nbformat": 4,
  "nbformat_minor": 0,
  "metadata": {
    "colab": {
      "provenance": [],
      "authorship_tag": "ABX9TyPp3l3wN9PLyNQCb1U2Hw5h",
      "include_colab_link": true
    },
    "kernelspec": {
      "name": "python3",
      "display_name": "Python 3"
    },
    "language_info": {
      "name": "python"
    }
  },
  "cells": [
    {
      "cell_type": "markdown",
      "metadata": {
        "id": "view-in-github",
        "colab_type": "text"
      },
      "source": [
        "<a href=\"https://colab.research.google.com/github/lesoame/Python_Mundo_1/blob/main/Spark.ipynb\" target=\"_parent\"><img src=\"https://colab.research.google.com/assets/colab-badge.svg\" alt=\"Open In Colab\"/></a>"
      ]
    },
    {
      "cell_type": "code",
      "execution_count": 3,
      "metadata": {
        "id": "ekvnUyfLa14H"
      },
      "outputs": [],
      "source": [
        "#instalar o java\n",
        "!apt-get install openjdk-8-jdk-headless -qq > /dev/null"
      ]
    },
    {
      "cell_type": "code",
      "source": [
        "#Baixar a versão mais recente do spark\n",
        "!wget -q https://dlcdn.apache.org/spark/spark-3.5.0/spark-3.5.0-bin-hadoop3.tgz"
      ],
      "metadata": {
        "id": "TCecF2hRdNmn"
      },
      "execution_count": 26,
      "outputs": []
    },
    {
      "cell_type": "code",
      "source": [
        "#Deszipar o spark\n",
        "!tar xf /content/spark-3.5.0-bin-hadoop3.tgz"
      ],
      "metadata": {
        "id": "0GbL46Yged-J"
      },
      "execution_count": 27,
      "outputs": []
    },
    {
      "cell_type": "code",
      "source": [
        "#Criar variáveis de ambiente\n",
        "import os\n",
        "os.environ[\"JAVA_HOME\"] = \"/usr/lib/jvm/java-8-openjdk-amd64\"\n",
        "os.environ[\"SPARK_HOME\"] = \"/content/spark-3.5.0-bin-hadoop3\""
      ],
      "metadata": {
        "id": "qTgRUpbFlHd2"
      },
      "execution_count": 31,
      "outputs": []
    },
    {
      "cell_type": "code",
      "source": [
        "# Instalar a lib findspark que ajuda a localizar o Spark no sistema e importálo como uma biblioteca regular\n",
        "!pip install -q findspark"
      ],
      "metadata": {
        "id": "OMpDrvV_l67M"
      },
      "execution_count": 29,
      "outputs": []
    },
    {
      "cell_type": "code",
      "source": [
        "#Importar a lib findspark\n",
        "import findspark\n",
        "findspark.init()"
      ],
      "metadata": {
        "id": "KHHD9TXFmRc6"
      },
      "execution_count": 32,
      "outputs": []
    },
    {
      "cell_type": "code",
      "source": [
        "#Criar spark session\n",
        "from pyspark.sql import SparkSession\n",
        "spark = SparkSession.builder\\\n",
        "        .master('local')\\\n",
        "        .appName('sparkcolab')\\\n",
        "        .getOrCreate()"
      ],
      "metadata": {
        "id": "6Em7e1V1nKP6"
      },
      "execution_count": 33,
      "outputs": []
    },
    {
      "cell_type": "code",
      "source": [
        "#importar o dataset\n",
        "from google.colab import files\n",
        "arquivo = files.upload()"
      ],
      "metadata": {
        "colab": {
          "base_uri": "https://localhost:8080/",
          "height": 73
        },
        "id": "q0W9CdhooBk4",
        "outputId": "868ebc9a-1807-4985-99f6-d0c50f68d26e"
      },
      "execution_count": 34,
      "outputs": [
        {
          "output_type": "display_data",
          "data": {
            "text/plain": [
              "<IPython.core.display.HTML object>"
            ],
            "text/html": [
              "\n",
              "     <input type=\"file\" id=\"files-a2dfdcda-17ad-4850-b4a8-3bf3ef41a501\" name=\"files[]\" multiple disabled\n",
              "        style=\"border:none\" />\n",
              "     <output id=\"result-a2dfdcda-17ad-4850-b4a8-3bf3ef41a501\">\n",
              "      Upload widget is only available when the cell has been executed in the\n",
              "      current browser session. Please rerun this cell to enable.\n",
              "      </output>\n",
              "      <script>// Copyright 2017 Google LLC\n",
              "//\n",
              "// Licensed under the Apache License, Version 2.0 (the \"License\");\n",
              "// you may not use this file except in compliance with the License.\n",
              "// You may obtain a copy of the License at\n",
              "//\n",
              "//      http://www.apache.org/licenses/LICENSE-2.0\n",
              "//\n",
              "// Unless required by applicable law or agreed to in writing, software\n",
              "// distributed under the License is distributed on an \"AS IS\" BASIS,\n",
              "// WITHOUT WARRANTIES OR CONDITIONS OF ANY KIND, either express or implied.\n",
              "// See the License for the specific language governing permissions and\n",
              "// limitations under the License.\n",
              "\n",
              "/**\n",
              " * @fileoverview Helpers for google.colab Python module.\n",
              " */\n",
              "(function(scope) {\n",
              "function span(text, styleAttributes = {}) {\n",
              "  const element = document.createElement('span');\n",
              "  element.textContent = text;\n",
              "  for (const key of Object.keys(styleAttributes)) {\n",
              "    element.style[key] = styleAttributes[key];\n",
              "  }\n",
              "  return element;\n",
              "}\n",
              "\n",
              "// Max number of bytes which will be uploaded at a time.\n",
              "const MAX_PAYLOAD_SIZE = 100 * 1024;\n",
              "\n",
              "function _uploadFiles(inputId, outputId) {\n",
              "  const steps = uploadFilesStep(inputId, outputId);\n",
              "  const outputElement = document.getElementById(outputId);\n",
              "  // Cache steps on the outputElement to make it available for the next call\n",
              "  // to uploadFilesContinue from Python.\n",
              "  outputElement.steps = steps;\n",
              "\n",
              "  return _uploadFilesContinue(outputId);\n",
              "}\n",
              "\n",
              "// This is roughly an async generator (not supported in the browser yet),\n",
              "// where there are multiple asynchronous steps and the Python side is going\n",
              "// to poll for completion of each step.\n",
              "// This uses a Promise to block the python side on completion of each step,\n",
              "// then passes the result of the previous step as the input to the next step.\n",
              "function _uploadFilesContinue(outputId) {\n",
              "  const outputElement = document.getElementById(outputId);\n",
              "  const steps = outputElement.steps;\n",
              "\n",
              "  const next = steps.next(outputElement.lastPromiseValue);\n",
              "  return Promise.resolve(next.value.promise).then((value) => {\n",
              "    // Cache the last promise value to make it available to the next\n",
              "    // step of the generator.\n",
              "    outputElement.lastPromiseValue = value;\n",
              "    return next.value.response;\n",
              "  });\n",
              "}\n",
              "\n",
              "/**\n",
              " * Generator function which is called between each async step of the upload\n",
              " * process.\n",
              " * @param {string} inputId Element ID of the input file picker element.\n",
              " * @param {string} outputId Element ID of the output display.\n",
              " * @return {!Iterable<!Object>} Iterable of next steps.\n",
              " */\n",
              "function* uploadFilesStep(inputId, outputId) {\n",
              "  const inputElement = document.getElementById(inputId);\n",
              "  inputElement.disabled = false;\n",
              "\n",
              "  const outputElement = document.getElementById(outputId);\n",
              "  outputElement.innerHTML = '';\n",
              "\n",
              "  const pickedPromise = new Promise((resolve) => {\n",
              "    inputElement.addEventListener('change', (e) => {\n",
              "      resolve(e.target.files);\n",
              "    });\n",
              "  });\n",
              "\n",
              "  const cancel = document.createElement('button');\n",
              "  inputElement.parentElement.appendChild(cancel);\n",
              "  cancel.textContent = 'Cancel upload';\n",
              "  const cancelPromise = new Promise((resolve) => {\n",
              "    cancel.onclick = () => {\n",
              "      resolve(null);\n",
              "    };\n",
              "  });\n",
              "\n",
              "  // Wait for the user to pick the files.\n",
              "  const files = yield {\n",
              "    promise: Promise.race([pickedPromise, cancelPromise]),\n",
              "    response: {\n",
              "      action: 'starting',\n",
              "    }\n",
              "  };\n",
              "\n",
              "  cancel.remove();\n",
              "\n",
              "  // Disable the input element since further picks are not allowed.\n",
              "  inputElement.disabled = true;\n",
              "\n",
              "  if (!files) {\n",
              "    return {\n",
              "      response: {\n",
              "        action: 'complete',\n",
              "      }\n",
              "    };\n",
              "  }\n",
              "\n",
              "  for (const file of files) {\n",
              "    const li = document.createElement('li');\n",
              "    li.append(span(file.name, {fontWeight: 'bold'}));\n",
              "    li.append(span(\n",
              "        `(${file.type || 'n/a'}) - ${file.size} bytes, ` +\n",
              "        `last modified: ${\n",
              "            file.lastModifiedDate ? file.lastModifiedDate.toLocaleDateString() :\n",
              "                                    'n/a'} - `));\n",
              "    const percent = span('0% done');\n",
              "    li.appendChild(percent);\n",
              "\n",
              "    outputElement.appendChild(li);\n",
              "\n",
              "    const fileDataPromise = new Promise((resolve) => {\n",
              "      const reader = new FileReader();\n",
              "      reader.onload = (e) => {\n",
              "        resolve(e.target.result);\n",
              "      };\n",
              "      reader.readAsArrayBuffer(file);\n",
              "    });\n",
              "    // Wait for the data to be ready.\n",
              "    let fileData = yield {\n",
              "      promise: fileDataPromise,\n",
              "      response: {\n",
              "        action: 'continue',\n",
              "      }\n",
              "    };\n",
              "\n",
              "    // Use a chunked sending to avoid message size limits. See b/62115660.\n",
              "    let position = 0;\n",
              "    do {\n",
              "      const length = Math.min(fileData.byteLength - position, MAX_PAYLOAD_SIZE);\n",
              "      const chunk = new Uint8Array(fileData, position, length);\n",
              "      position += length;\n",
              "\n",
              "      const base64 = btoa(String.fromCharCode.apply(null, chunk));\n",
              "      yield {\n",
              "        response: {\n",
              "          action: 'append',\n",
              "          file: file.name,\n",
              "          data: base64,\n",
              "        },\n",
              "      };\n",
              "\n",
              "      let percentDone = fileData.byteLength === 0 ?\n",
              "          100 :\n",
              "          Math.round((position / fileData.byteLength) * 100);\n",
              "      percent.textContent = `${percentDone}% done`;\n",
              "\n",
              "    } while (position < fileData.byteLength);\n",
              "  }\n",
              "\n",
              "  // All done.\n",
              "  yield {\n",
              "    response: {\n",
              "      action: 'complete',\n",
              "    }\n",
              "  };\n",
              "}\n",
              "\n",
              "scope.google = scope.google || {};\n",
              "scope.google.colab = scope.google.colab || {};\n",
              "scope.google.colab._files = {\n",
              "  _uploadFiles,\n",
              "  _uploadFilesContinue,\n",
              "};\n",
              "})(self);\n",
              "</script> "
            ]
          },
          "metadata": {}
        },
        {
          "output_type": "stream",
          "name": "stdout",
          "text": [
            "Saving imdb_top_1000.csv to imdb_top_1000.csv\n"
          ]
        }
      ]
    },
    {
      "cell_type": "code",
      "source": [
        "#Criar dataframe\n",
        "df = spark.read.csv('imdb_top_1000.csv', header=True, inferSchema=True)"
      ],
      "metadata": {
        "id": "N1bnbfdiaRCh"
      },
      "execution_count": 35,
      "outputs": []
    },
    {
      "cell_type": "code",
      "source": [
        "df.printSchema()"
      ],
      "metadata": {
        "colab": {
          "base_uri": "https://localhost:8080/"
        },
        "id": "C6ieyp0Pa1hN",
        "outputId": "7ed612b8-672a-40c6-edbe-579dbcee05cc"
      },
      "execution_count": 36,
      "outputs": [
        {
          "output_type": "stream",
          "name": "stdout",
          "text": [
            "root\n",
            " |-- Poster_Link: string (nullable = true)\n",
            " |-- Series_Title: string (nullable = true)\n",
            " |-- Released_Year: string (nullable = true)\n",
            " |-- Certificate: string (nullable = true)\n",
            " |-- Runtime: string (nullable = true)\n",
            " |-- Genre: string (nullable = true)\n",
            " |-- IMDB_Rating: double (nullable = true)\n",
            " |-- Overview: string (nullable = true)\n",
            " |-- Meta_score: string (nullable = true)\n",
            " |-- Director: string (nullable = true)\n",
            " |-- Star1: string (nullable = true)\n",
            " |-- Star2: string (nullable = true)\n",
            " |-- Star3: string (nullable = true)\n",
            " |-- Star4: string (nullable = true)\n",
            " |-- No_of_Votes: string (nullable = true)\n",
            " |-- Gross: string (nullable = true)\n",
            "\n"
          ]
        }
      ]
    },
    {
      "cell_type": "code",
      "source": [
        "df.show()"
      ],
      "metadata": {
        "colab": {
          "base_uri": "https://localhost:8080/"
        },
        "id": "sa31RGB1bRV_",
        "outputId": "07baada3-8a13-4120-fdb0-7cd7aae321f7"
      },
      "execution_count": 37,
      "outputs": [
        {
          "output_type": "stream",
          "name": "stdout",
          "text": [
            "+--------------------+--------------------+-------------+-----------+-------+--------------------+-----------+--------------------+----------+--------------------+------------------+--------------------+------------------+--------------------+-----------+-----------+\n",
            "|         Poster_Link|        Series_Title|Released_Year|Certificate|Runtime|               Genre|IMDB_Rating|            Overview|Meta_score|            Director|             Star1|               Star2|             Star3|               Star4|No_of_Votes|      Gross|\n",
            "+--------------------+--------------------+-------------+-----------+-------+--------------------+-----------+--------------------+----------+--------------------+------------------+--------------------+------------------+--------------------+-----------+-----------+\n",
            "|https://m.media-a...|The Shawshank Red...|         1994|          A|142 min|               Drama|        9.3|Two imprisoned me...|        80|      Frank Darabont|       Tim Robbins|      Morgan Freeman|        Bob Gunton|      William Sadler|    2343110| 28,341,469|\n",
            "|https://m.media-a...|       The Godfather|         1972|          A|175 min|        Crime, Drama|        9.2|An organized crim...|       100|Francis Ford Coppola|     Marlon Brando|           Al Pacino|        James Caan|        Diane Keaton|    1620367|134,966,411|\n",
            "|https://m.media-a...|     The Dark Knight|         2008|         UA|152 min|Action, Crime, Drama|        9.0|When the menace k...|        84|   Christopher Nolan|    Christian Bale|        Heath Ledger|     Aaron Eckhart|       Michael Caine|    2303232|534,858,444|\n",
            "|https://m.media-a...|The Godfather: Pa...|         1974|          A|202 min|        Crime, Drama|        9.0|The early life an...|        90|Francis Ford Coppola|         Al Pacino|      Robert De Niro|     Robert Duvall|        Diane Keaton|    1129952| 57,300,000|\n",
            "|https://m.media-a...|        12 Angry Men|         1957|          U| 96 min|        Crime, Drama|        9.0|A jury holdout at...|        96|        Sidney Lumet|       Henry Fonda|         Lee J. Cobb|     Martin Balsam|        John Fiedler|     689845|  4,360,000|\n",
            "|https://m.media-a...|The Lord of the R...|         2003|          U|201 min|Action, Adventure...|        8.9|Gandalf and Arago...|        94|       Peter Jackson|       Elijah Wood|     Viggo Mortensen|      Ian McKellen|       Orlando Bloom|    1642758|377,845,905|\n",
            "|https://m.media-a...|        Pulp Fiction|         1994|          A|154 min|        Crime, Drama|        8.9|The lives of two ...|        94|   Quentin Tarantino|     John Travolta|         Uma Thurman| Samuel L. Jackson|        Bruce Willis|    1826188|107,928,762|\n",
            "|https://m.media-a...|    Schindler's List|         1993|          A|195 min|Biography, Drama,...|        8.9|In German-occupie...|        94|    Steven Spielberg|       Liam Neeson|       Ralph Fiennes|      Ben Kingsley|    Caroline Goodall|    1213505| 96,898,818|\n",
            "|https://m.media-a...|           Inception|         2010|         UA|148 min|Action, Adventure...|        8.8|A thief who steal...|        74|   Christopher Nolan| Leonardo DiCaprio|Joseph Gordon-Levitt|       Elliot Page|        Ken Watanabe|    2067042|292,576,195|\n",
            "|https://m.media-a...|          Fight Club|         1999|          A|139 min|               Drama|        8.8|An insomniac offi...|        66|       David Fincher|         Brad Pitt|       Edward Norton|         Meat Loaf|        Zach Grenier|    1854740| 37,030,102|\n",
            "|https://m.media-a...|The Lord of the R...|         2001|          U|178 min|Action, Adventure...|        8.8|A meek Hobbit fro...|        92|       Peter Jackson|       Elijah Wood|        Ian McKellen|     Orlando Bloom|           Sean Bean|    1661481|315,544,750|\n",
            "|https://m.media-a...|        Forrest Gump|         1994|         UA|142 min|      Drama, Romance|        8.8|The presidencies ...|        82|     Robert Zemeckis|         Tom Hanks|        Robin Wright|       Gary Sinise|         Sally Field|    1809221|330,252,182|\n",
            "|https://m.media-a...|Il buono, il brut...|         1966|          A|161 min|             Western|        8.8|A bounty hunting ...|        90|        Sergio Leone|    Clint Eastwood|         Eli Wallach|     Lee Van Cleef|        Aldo Giuffrè|     688390|  6,100,000|\n",
            "|https://m.media-a...|The Lord of the R...|         2002|         UA|179 min|Action, Adventure...|        8.7|While Frodo and S...|        87|       Peter Jackson|       Elijah Wood|        Ian McKellen|   Viggo Mortensen|       Orlando Bloom|    1485555|342,551,365|\n",
            "|https://m.media-a...|          The Matrix|         1999|          A|136 min|      Action, Sci-Fi|        8.7|When a beautiful ...|        73|      Lana Wachowski|   Lilly Wachowski|        Keanu Reeves|Laurence Fishburne|    Carrie-Anne Moss|    1676426|171,479,930|\n",
            "|https://m.media-a...|          Goodfellas|         1990|          A|146 min|Biography, Crime,...|        8.7|The story of Henr...|        90|     Martin Scorsese|    Robert De Niro|          Ray Liotta|         Joe Pesci|     Lorraine Bracco|    1020727| 46,836,394|\n",
            "|https://m.media-a...|Star Wars: Episod...|         1980|         UA|124 min|Action, Adventure...|        8.7|After the Rebels ...|        82|      Irvin Kershner|       Mark Hamill|       Harrison Ford|     Carrie Fisher|  Billy Dee Williams|    1159315|290,475,067|\n",
            "|https://m.media-a...|One Flew Over the...|         1975|          A|133 min|               Drama|        8.7|A criminal pleads...|        83|        Milos Forman|    Jack Nicholson|     Louise Fletcher|  Michael Berryman|        Peter Brocco|     918088|112,000,000|\n",
            "|https://m.media-a...|            Hamilton|         2020|      PG-13|160 min|Biography, Drama,...|        8.6|The real life of ...|        90|         Thomas Kail|Lin-Manuel Miranda|        Phillipa Soo|   Leslie Odom Jr.|Renée Elise Golds...|      55291|       NULL|\n",
            "|https://m.media-a...|        Gisaengchung|         2019|          A|132 min|Comedy, Drama, Th...|        8.6|Greed and class d...|        96|        Bong Joon Ho|      Kang-ho Song|        Lee Sun-kyun|     Cho Yeo-jeong|        Choi Woo-sik|     552778| 53,367,844|\n",
            "+--------------------+--------------------+-------------+-----------+-------+--------------------+-----------+--------------------+----------+--------------------+------------------+--------------------+------------------+--------------------+-----------+-----------+\n",
            "only showing top 20 rows\n",
            "\n"
          ]
        }
      ]
    },
    {
      "cell_type": "code",
      "source": [
        "#Selecionar colunas\n",
        "df_series = df.select('Series_Title', 'Genre', 'Director', 'No_of_Votes')"
      ],
      "metadata": {
        "id": "3h3ouFqebvJf"
      },
      "execution_count": 41,
      "outputs": []
    },
    {
      "cell_type": "code",
      "source": [
        "#mostrar na tela\n",
        "df_series.show()"
      ],
      "metadata": {
        "colab": {
          "base_uri": "https://localhost:8080/"
        },
        "id": "sUzGNovSccDU",
        "outputId": "ea89b4cf-0f26-45e9-de77-4d35c09d8d1d"
      },
      "execution_count": 42,
      "outputs": [
        {
          "output_type": "stream",
          "name": "stdout",
          "text": [
            "+--------------------+--------------------+--------------------+-----------+\n",
            "|        Series_Title|               Genre|            Director|No_of_Votes|\n",
            "+--------------------+--------------------+--------------------+-----------+\n",
            "|The Shawshank Red...|               Drama|      Frank Darabont|    2343110|\n",
            "|       The Godfather|        Crime, Drama|Francis Ford Coppola|    1620367|\n",
            "|     The Dark Knight|Action, Crime, Drama|   Christopher Nolan|    2303232|\n",
            "|The Godfather: Pa...|        Crime, Drama|Francis Ford Coppola|    1129952|\n",
            "|        12 Angry Men|        Crime, Drama|        Sidney Lumet|     689845|\n",
            "|The Lord of the R...|Action, Adventure...|       Peter Jackson|    1642758|\n",
            "|        Pulp Fiction|        Crime, Drama|   Quentin Tarantino|    1826188|\n",
            "|    Schindler's List|Biography, Drama,...|    Steven Spielberg|    1213505|\n",
            "|           Inception|Action, Adventure...|   Christopher Nolan|    2067042|\n",
            "|          Fight Club|               Drama|       David Fincher|    1854740|\n",
            "|The Lord of the R...|Action, Adventure...|       Peter Jackson|    1661481|\n",
            "|        Forrest Gump|      Drama, Romance|     Robert Zemeckis|    1809221|\n",
            "|Il buono, il brut...|             Western|        Sergio Leone|     688390|\n",
            "|The Lord of the R...|Action, Adventure...|       Peter Jackson|    1485555|\n",
            "|          The Matrix|      Action, Sci-Fi|      Lana Wachowski|    1676426|\n",
            "|          Goodfellas|Biography, Crime,...|     Martin Scorsese|    1020727|\n",
            "|Star Wars: Episod...|Action, Adventure...|      Irvin Kershner|    1159315|\n",
            "|One Flew Over the...|               Drama|        Milos Forman|     918088|\n",
            "|            Hamilton|Biography, Drama,...|         Thomas Kail|      55291|\n",
            "|        Gisaengchung|Comedy, Drama, Th...|        Bong Joon Ho|     552778|\n",
            "+--------------------+--------------------+--------------------+-----------+\n",
            "only showing top 20 rows\n",
            "\n"
          ]
        }
      ]
    },
    {
      "cell_type": "code",
      "source": [
        "#mudar tipo das colunas\n",
        "df_Votes = df_series.withColumn('Votes', df_series['No_of_Votes'].cast('int')).drop('No_of_Votes')\n",
        "df_Votes.show()"
      ],
      "metadata": {
        "colab": {
          "base_uri": "https://localhost:8080/"
        },
        "id": "kLRLbpmJdCJC",
        "outputId": "74807f5e-abf2-4bdd-80b1-1cf12eccf38f"
      },
      "execution_count": 43,
      "outputs": [
        {
          "output_type": "stream",
          "name": "stdout",
          "text": [
            "+--------------------+--------------------+--------------------+-------+\n",
            "|        Series_Title|               Genre|            Director|  Votes|\n",
            "+--------------------+--------------------+--------------------+-------+\n",
            "|The Shawshank Red...|               Drama|      Frank Darabont|2343110|\n",
            "|       The Godfather|        Crime, Drama|Francis Ford Coppola|1620367|\n",
            "|     The Dark Knight|Action, Crime, Drama|   Christopher Nolan|2303232|\n",
            "|The Godfather: Pa...|        Crime, Drama|Francis Ford Coppola|1129952|\n",
            "|        12 Angry Men|        Crime, Drama|        Sidney Lumet| 689845|\n",
            "|The Lord of the R...|Action, Adventure...|       Peter Jackson|1642758|\n",
            "|        Pulp Fiction|        Crime, Drama|   Quentin Tarantino|1826188|\n",
            "|    Schindler's List|Biography, Drama,...|    Steven Spielberg|1213505|\n",
            "|           Inception|Action, Adventure...|   Christopher Nolan|2067042|\n",
            "|          Fight Club|               Drama|       David Fincher|1854740|\n",
            "|The Lord of the R...|Action, Adventure...|       Peter Jackson|1661481|\n",
            "|        Forrest Gump|      Drama, Romance|     Robert Zemeckis|1809221|\n",
            "|Il buono, il brut...|             Western|        Sergio Leone| 688390|\n",
            "|The Lord of the R...|Action, Adventure...|       Peter Jackson|1485555|\n",
            "|          The Matrix|      Action, Sci-Fi|      Lana Wachowski|1676426|\n",
            "|          Goodfellas|Biography, Crime,...|     Martin Scorsese|1020727|\n",
            "|Star Wars: Episod...|Action, Adventure...|      Irvin Kershner|1159315|\n",
            "|One Flew Over the...|               Drama|        Milos Forman| 918088|\n",
            "|            Hamilton|Biography, Drama,...|         Thomas Kail|  55291|\n",
            "|        Gisaengchung|Comedy, Drama, Th...|        Bong Joon Ho| 552778|\n",
            "+--------------------+--------------------+--------------------+-------+\n",
            "only showing top 20 rows\n",
            "\n"
          ]
        }
      ]
    },
    {
      "cell_type": "code",
      "source": [
        "#filtro\n",
        "df_Votes.filter(df_Votes.Votes > 1500000).show()"
      ],
      "metadata": {
        "colab": {
          "base_uri": "https://localhost:8080/"
        },
        "id": "BgQcocYWeh3q",
        "outputId": "1186ce7f-a659-48fc-9df5-06d3f7316cb7"
      },
      "execution_count": 47,
      "outputs": [
        {
          "output_type": "stream",
          "name": "stdout",
          "text": [
            "+--------------------+--------------------+--------------------+-------+\n",
            "|        Series_Title|               Genre|            Director|  Votes|\n",
            "+--------------------+--------------------+--------------------+-------+\n",
            "|The Shawshank Red...|               Drama|      Frank Darabont|2343110|\n",
            "|       The Godfather|        Crime, Drama|Francis Ford Coppola|1620367|\n",
            "|     The Dark Knight|Action, Crime, Drama|   Christopher Nolan|2303232|\n",
            "|The Lord of the R...|Action, Adventure...|       Peter Jackson|1642758|\n",
            "|        Pulp Fiction|        Crime, Drama|   Quentin Tarantino|1826188|\n",
            "|           Inception|Action, Adventure...|   Christopher Nolan|2067042|\n",
            "|          Fight Club|               Drama|       David Fincher|1854740|\n",
            "|The Lord of the R...|Action, Adventure...|       Peter Jackson|1661481|\n",
            "|        Forrest Gump|      Drama, Romance|     Robert Zemeckis|1809221|\n",
            "|          The Matrix|      Action, Sci-Fi|      Lana Wachowski|1676426|\n",
            "|        Interstellar|Adventure, Drama,...|   Christopher Nolan|1512360|\n",
            "|The Dark Knight R...|   Action, Adventure|   Christopher Nolan|1516346|\n",
            "+--------------------+--------------------+--------------------+-------+\n",
            "\n"
          ]
        }
      ]
    },
    {
      "cell_type": "code",
      "source": [
        "#pegar max\n",
        "from pyspark.sql.functions import max\n",
        "df_max = df_Votes.agg(max('Votes').alias('max_votes')).show()"
      ],
      "metadata": {
        "colab": {
          "base_uri": "https://localhost:8080/"
        },
        "id": "5mbwahyZfpCU",
        "outputId": "793b8720-a9d0-4006-970c-9685aca4ad7e"
      },
      "execution_count": 48,
      "outputs": [
        {
          "output_type": "stream",
          "name": "stdout",
          "text": [
            "+---------+\n",
            "|max_votes|\n",
            "+---------+\n",
            "|  2343110|\n",
            "+---------+\n",
            "\n"
          ]
        }
      ]
    },
    {
      "cell_type": "code",
      "source": [
        "df_max_votes = df_Votes.filter(df_Votes.Votes == 2343110).show()"
      ],
      "metadata": {
        "colab": {
          "base_uri": "https://localhost:8080/"
        },
        "id": "Z7Xgg7wif9Yu",
        "outputId": "ee744af5-047b-46cf-9d7a-31a4fe492088"
      },
      "execution_count": 49,
      "outputs": [
        {
          "output_type": "stream",
          "name": "stdout",
          "text": [
            "+--------------------+-----+--------------+-------+\n",
            "|        Series_Title|Genre|      Director|  Votes|\n",
            "+--------------------+-----+--------------+-------+\n",
            "|The Shawshank Red...|Drama|Frank Darabont|2343110|\n",
            "+--------------------+-----+--------------+-------+\n",
            "\n"
          ]
        }
      ]
    },
    {
      "cell_type": "code",
      "source": [
        "#contar genre\n",
        "from pyspark.sql.functions import count, col, asc, desc\n",
        "df_sum = df_Votes.groupBy('genre').count()\n",
        "df_sum.show(truncate=False)"
      ],
      "metadata": {
        "colab": {
          "base_uri": "https://localhost:8080/"
        },
        "id": "IRkrSG-FhRR5",
        "outputId": "5208a3b8-6d13-450e-b0f4-cf67d2db5f95"
      },
      "execution_count": 52,
      "outputs": [
        {
          "output_type": "stream",
          "name": "stdout",
          "text": [
            "+-----------------------------+-----+\n",
            "|genre                        |count|\n",
            "+-----------------------------+-----+\n",
            "|Action, Thriller             |3    |\n",
            "|Animation, Comedy, Fantasy   |1    |\n",
            "|Crime, Thriller              |3    |\n",
            "|Action, Adventure, Fantasy   |6    |\n",
            "|Adventure, Sci-Fi            |2    |\n",
            "|Drama, Fantasy, History      |1    |\n",
            "|Animation, Adventure, Fantasy|1    |\n",
            "|Animation, Biography, Crime  |1    |\n",
            "|Animation, Adventure, Drama  |7    |\n",
            "|Action, Adventure, History   |1    |\n",
            "|Comedy, Crime, Mystery       |1    |\n",
            "|Adventure, Biography, Crime  |1    |\n",
            "|Comedy, Drama                |35   |\n",
            "|Biography, Drama, Sport      |9    |\n",
            "|Comedy, Drama, Romance       |31   |\n",
            "|Action, Drama                |5    |\n",
            "|Drama, Romance, Thriller     |2    |\n",
            "|Drama, Mystery, Sci-Fi       |5    |\n",
            "|Comedy, Family, Romance      |1    |\n",
            "|Adventure, Drama, Fantasy    |6    |\n",
            "+-----------------------------+-----+\n",
            "only showing top 20 rows\n",
            "\n"
          ]
        }
      ]
    },
    {
      "cell_type": "code",
      "source": [
        "df_sum.orderBy(col('count').desc()).show(truncate=False)"
      ],
      "metadata": {
        "colab": {
          "base_uri": "https://localhost:8080/"
        },
        "id": "-oArubvciNZS",
        "outputId": "a7b256a0-08d8-4a19-d133-2b52127c6544"
      },
      "execution_count": 54,
      "outputs": [
        {
          "output_type": "stream",
          "name": "stdout",
          "text": [
            "+----------------------------+-----+\n",
            "|genre                       |count|\n",
            "+----------------------------+-----+\n",
            "|Drama                       |85   |\n",
            "|Drama, Romance              |37   |\n",
            "|Comedy, Drama               |35   |\n",
            "|Comedy, Drama, Romance      |31   |\n",
            "|Action, Crime, Drama        |30   |\n",
            "|Crime, Drama, Thriller      |28   |\n",
            "|Biography, Drama, History   |28   |\n",
            "|Crime, Drama, Mystery       |27   |\n",
            "|Crime, Drama                |26   |\n",
            "|Animation, Adventure, Comedy|24   |\n",
            "|Action, Adventure, Sci-Fi   |21   |\n",
            "|Biography, Crime, Drama     |16   |\n",
            "|Comedy, Crime, Drama        |15   |\n",
            "|Drama, War                  |15   |\n",
            "|Action, Adventure, Drama    |14   |\n",
            "|Drama, Thriller             |14   |\n",
            "|Comedy                      |13   |\n",
            "|Biography, Drama            |12   |\n",
            "|Animation, Action, Adventure|11   |\n",
            "|Action, Adventure, Comedy   |10   |\n",
            "+----------------------------+-----+\n",
            "only showing top 20 rows\n",
            "\n"
          ]
        }
      ]
    },
    {
      "cell_type": "code",
      "source": [
        "#in\n",
        "df_Votes.select('Series_Title', 'Genre', 'Votes').filter(df_Votes.Genre.isin('Crime, Drama', 'Drama, War', 'Comedy')).show(truncate=False)"
      ],
      "metadata": {
        "colab": {
          "base_uri": "https://localhost:8080/"
        },
        "id": "f0-wLXhXi4py",
        "outputId": "f7dec2d2-37dc-48b4-9492-10c602ae9282"
      },
      "execution_count": 72,
      "outputs": [
        {
          "output_type": "stream",
          "name": "stdout",
          "text": [
            "+--------------------------------------------------------------------+------------+-------+\n",
            "|Series_Title                                                        |Genre       |Votes  |\n",
            "+--------------------------------------------------------------------+------------+-------+\n",
            "|The Godfather                                                       |Crime, Drama|1620367|\n",
            "|The Godfather: Part II                                              |Crime, Drama|1129952|\n",
            "|12 Angry Men                                                        |Crime, Drama|689845 |\n",
            "|Pulp Fiction                                                        |Crime, Drama|1826188|\n",
            "|Cidade de Deus                                                      |Crime, Drama|699256 |\n",
            "|Saving Private Ryan                                                 |Drama, War  |1235804|\n",
            "|Once Upon a Time in America                                         |Crime, Drama|311365 |\n",
            "|Dr. Strangelove or: How I Learned to Stop Worrying and Love the Bomb|Comedy      |450474 |\n",
            "|Paths of Glory                                                      |Drama, War  |178092 |\n",
            "|Full Metal Jacket                                                   |Drama, War  |675146 |\n",
            "|Scarface                                                            |Crime, Drama|740911 |\n",
            "|Taxi Driver                                                         |Crime, Drama|724636 |\n",
            "|Mandariinid                                                         |Drama, War  |40382  |\n",
            "|Casino                                                              |Crime, Drama|466276 |\n",
            "|To Kill a Mockingbird                                               |Crime, Drama|293811 |\n",
            "|Judgment at Nuremberg                                               |Drama, War  |69458  |\n",
            "|La haine                                                            |Crime, Drama|150345 |\n",
            "|Platoon                                                             |Drama, War  |381222 |\n",
            "|Life of Brian                                                       |Comedy      |367250 |\n",
            "|The Deer Hunter                                                     |Drama, War  |311361 |\n",
            "+--------------------------------------------------------------------+------------+-------+\n",
            "only showing top 20 rows\n",
            "\n"
          ]
        }
      ]
    },
    {
      "cell_type": "code",
      "source": [
        "#para negar todos os gêneros que estão na lista basta adicionar ~ no começo da função isin\n",
        "df_Votes.select('Series_Title', 'Genre', 'Votes').filter(~df_Votes.Genre.isin('Crime, Drama', 'Drama, War', 'Comedy')).show(truncate=False)"
      ],
      "metadata": {
        "colab": {
          "base_uri": "https://localhost:8080/"
        },
        "id": "fo2GAh-ikoaU",
        "outputId": "f522ea54-7461-43d7-f6f7-c1f8e6c0101e"
      },
      "execution_count": 73,
      "outputs": [
        {
          "output_type": "stream",
          "name": "stdout",
          "text": [
            "+-------------------------------------------------+----------------------------+-------+\n",
            "|Series_Title                                     |Genre                       |Votes  |\n",
            "+-------------------------------------------------+----------------------------+-------+\n",
            "|The Shawshank Redemption                         |Drama                       |2343110|\n",
            "|The Dark Knight                                  |Action, Crime, Drama        |2303232|\n",
            "|The Lord of the Rings: The Return of the King    |Action, Adventure, Drama    |1642758|\n",
            "|Schindler's List                                 |Biography, Drama, History   |1213505|\n",
            "|Inception                                        |Action, Adventure, Sci-Fi   |2067042|\n",
            "|Fight Club                                       |Drama                       |1854740|\n",
            "|The Lord of the Rings: The Fellowship of the Ring|Action, Adventure, Drama    |1661481|\n",
            "|Forrest Gump                                     |Drama, Romance              |1809221|\n",
            "|Il buono, il brutto, il cattivo                  |Western                     |688390 |\n",
            "|The Lord of the Rings: The Two Towers            |Action, Adventure, Drama    |1485555|\n",
            "|The Matrix                                       |Action, Sci-Fi              |1676426|\n",
            "|Goodfellas                                       |Biography, Crime, Drama     |1020727|\n",
            "|Star Wars: Episode V - The Empire Strikes Back   |Action, Adventure, Fantasy  |1159315|\n",
            "|One Flew Over the Cuckoo's Nest                  |Drama                       |918088 |\n",
            "|Hamilton                                         |Biography, Drama, History   |55291  |\n",
            "|Gisaengchung                                     |Comedy, Drama, Thriller     |552778 |\n",
            "|Soorarai Pottru                                  |Drama                       |54995  |\n",
            "|Interstellar                                     |Adventure, Drama, Sci-Fi    |1512360|\n",
            "|Sen to Chihiro no kamikakushi                    |Animation, Adventure, Family|651376 |\n",
            "|The Green Mile                                   |Crime, Drama, Fantasy       |1147794|\n",
            "+-------------------------------------------------+----------------------------+-------+\n",
            "only showing top 20 rows\n",
            "\n"
          ]
        }
      ]
    },
    {
      "cell_type": "code",
      "source": [
        "#usando sql\n",
        "df_Votes.createOrReplaceTempView('movies')\n",
        "spark.sql('select Votes, count(*) as qtd from movies GROUP BY Votes ORDER BY qtd desc').show(truncate=False)"
      ],
      "metadata": {
        "colab": {
          "base_uri": "https://localhost:8080/"
        },
        "id": "1IGs3l7_nbNN",
        "outputId": "58cc3b21-9bf4-4ed4-c7c6-1ad8ca82dc27"
      },
      "execution_count": 76,
      "outputs": [
        {
          "output_type": "stream",
          "name": "stdout",
          "text": [
            "+-------+---+\n",
            "|Votes  |qtd|\n",
            "+-------+---+\n",
            "|NULL   |14 |\n",
            "|65341  |2  |\n",
            "|959181 |1  |\n",
            "|939631 |1  |\n",
            "|244430 |1  |\n",
            "|1661481|1  |\n",
            "|1159315|1  |\n",
            "|425457 |1  |\n",
            "|211427 |1  |\n",
            "|206918 |1  |\n",
            "|43690  |1  |\n",
            "|78925  |1  |\n",
            "|918562 |1  |\n",
            "|241513 |1  |\n",
            "|1125712|1  |\n",
            "|50610  |1  |\n",
            "|582239 |1  |\n",
            "|131436 |1  |\n",
            "|35713  |1  |\n",
            "|27733  |1  |\n",
            "+-------+---+\n",
            "only showing top 20 rows\n",
            "\n"
          ]
        }
      ]
    },
    {
      "cell_type": "code",
      "source": [
        "#criar df reviews"
      ],
      "metadata": {
        "id": "LO4XInIUptvf"
      },
      "execution_count": null,
      "outputs": []
    }
  ]
}